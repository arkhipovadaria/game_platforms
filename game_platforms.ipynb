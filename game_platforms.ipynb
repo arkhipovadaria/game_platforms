{
 "cells": [
  {
   "cell_type": "markdown",
   "metadata": {},
   "source": [
    "### Описание данных\n",
    "\n",
    "- Name — название игры\n",
    "- Platform — платформа\n",
    "- Year_of_Release — год выпуска\n",
    "- Genre — жанр игры\n",
    "- NA_sales — продажи в Северной Америке (миллионы долларов)\n",
    "- EU_sales — продажи в Европе (миллионы долларов)\n",
    "- JP_sales — продажи в Японии (миллионы долларов)\n",
    "- Other_sales — продажи в других странах (миллионы долларов)\n",
    "- Critic_Score — оценка критиков (максимум 100)\n",
    "- User_Score — оценка пользователей (максимум 10)\n",
    "- Rating — рейтинг от организации ESRB (англ. Entertainment Software Rating Board). Эта ассоциация определяет рейтинг компьютерных игр и присваивает им подходящую возрастную категорию."
   ]
  },
  {
   "cell_type": "markdown",
   "metadata": {},
   "source": [
    "## Шаг 1. Изучение общей информации"
   ]
  },
  {
   "cell_type": "code",
   "execution_count": 1,
   "metadata": {},
   "outputs": [
    {
     "data": {
      "application/javascript": [
       "IPython.notebook.set_autosave_interval(5000)"
      ]
     },
     "metadata": {},
     "output_type": "display_data"
    },
    {
     "name": "stdout",
     "output_type": "stream",
     "text": [
      "Autosaving every 5 seconds\n"
     ]
    }
   ],
   "source": [
    "import matplotlib\n",
    "import matplotlib.pyplot as plt\n",
    "\n",
    "matplotlib.style.use('ggplot')\n",
    "%matplotlib inline\n",
    "\n",
    "import pandas as pd\n",
    "import warnings\n",
    "warnings.filterwarnings('ignore')\n",
    "import math\n",
    "import numpy as np\n",
    "from scipy import stats as st\n",
    "from IPython.display import Image\n",
    "import seaborn as sns\n",
    "\n",
    "%autosave 5"
   ]
  },
  {
   "cell_type": "code",
   "execution_count": 2,
   "metadata": {},
   "outputs": [],
   "source": [
    "df = pd.read_csv('/datasets/games.csv')"
   ]
  },
  {
   "cell_type": "code",
   "execution_count": 3,
   "metadata": {},
   "outputs": [
    {
     "name": "stdout",
     "output_type": "stream",
     "text": [
      "<class 'pandas.core.frame.DataFrame'>\n",
      "RangeIndex: 16715 entries, 0 to 16714\n",
      "Data columns (total 11 columns):\n",
      "Name               16713 non-null object\n",
      "Platform           16715 non-null object\n",
      "Year_of_Release    16446 non-null float64\n",
      "Genre              16713 non-null object\n",
      "NA_sales           16715 non-null float64\n",
      "EU_sales           16715 non-null float64\n",
      "JP_sales           16715 non-null float64\n",
      "Other_sales        16715 non-null float64\n",
      "Critic_Score       8137 non-null float64\n",
      "User_Score         10014 non-null object\n",
      "Rating             9949 non-null object\n",
      "dtypes: float64(6), object(5)\n",
      "memory usage: 1.4+ MB\n"
     ]
    }
   ],
   "source": [
    "df.info()"
   ]
  },
  {
   "cell_type": "code",
   "execution_count": 4,
   "metadata": {},
   "outputs": [
    {
     "data": {
      "text/html": [
       "<div>\n",
       "<style scoped>\n",
       "    .dataframe tbody tr th:only-of-type {\n",
       "        vertical-align: middle;\n",
       "    }\n",
       "\n",
       "    .dataframe tbody tr th {\n",
       "        vertical-align: top;\n",
       "    }\n",
       "\n",
       "    .dataframe thead th {\n",
       "        text-align: right;\n",
       "    }\n",
       "</style>\n",
       "<table border=\"1\" class=\"dataframe\">\n",
       "  <thead>\n",
       "    <tr style=\"text-align: right;\">\n",
       "      <th></th>\n",
       "      <th>Name</th>\n",
       "      <th>Platform</th>\n",
       "      <th>Year_of_Release</th>\n",
       "      <th>Genre</th>\n",
       "      <th>NA_sales</th>\n",
       "      <th>EU_sales</th>\n",
       "      <th>JP_sales</th>\n",
       "      <th>Other_sales</th>\n",
       "      <th>Critic_Score</th>\n",
       "      <th>User_Score</th>\n",
       "      <th>Rating</th>\n",
       "    </tr>\n",
       "  </thead>\n",
       "  <tbody>\n",
       "    <tr>\n",
       "      <td>9199</td>\n",
       "      <td>Dino Crisis 3</td>\n",
       "      <td>XB</td>\n",
       "      <td>2003.0</td>\n",
       "      <td>Action</td>\n",
       "      <td>0.08</td>\n",
       "      <td>0.03</td>\n",
       "      <td>0.03</td>\n",
       "      <td>0.00</td>\n",
       "      <td>51.0</td>\n",
       "      <td>4.1</td>\n",
       "      <td>M</td>\n",
       "    </tr>\n",
       "    <tr>\n",
       "      <td>10380</td>\n",
       "      <td>Virtual Hydlide</td>\n",
       "      <td>SAT</td>\n",
       "      <td>1995.0</td>\n",
       "      <td>Role-Playing</td>\n",
       "      <td>0.00</td>\n",
       "      <td>0.00</td>\n",
       "      <td>0.11</td>\n",
       "      <td>0.00</td>\n",
       "      <td>NaN</td>\n",
       "      <td>NaN</td>\n",
       "      <td>NaN</td>\n",
       "    </tr>\n",
       "    <tr>\n",
       "      <td>16148</td>\n",
       "      <td>Codename: Panzers Phase Two</td>\n",
       "      <td>PC</td>\n",
       "      <td>2005.0</td>\n",
       "      <td>Strategy</td>\n",
       "      <td>0.00</td>\n",
       "      <td>0.01</td>\n",
       "      <td>0.00</td>\n",
       "      <td>0.00</td>\n",
       "      <td>80.0</td>\n",
       "      <td>8.1</td>\n",
       "      <td>T</td>\n",
       "    </tr>\n",
       "    <tr>\n",
       "      <td>10930</td>\n",
       "      <td>Rygar: The Battle of Argus</td>\n",
       "      <td>Wii</td>\n",
       "      <td>2008.0</td>\n",
       "      <td>Action</td>\n",
       "      <td>0.09</td>\n",
       "      <td>0.00</td>\n",
       "      <td>0.00</td>\n",
       "      <td>0.01</td>\n",
       "      <td>52.0</td>\n",
       "      <td>7</td>\n",
       "      <td>T</td>\n",
       "    </tr>\n",
       "    <tr>\n",
       "      <td>6579</td>\n",
       "      <td>MVP Baseball 2004</td>\n",
       "      <td>GC</td>\n",
       "      <td>2004.0</td>\n",
       "      <td>Sports</td>\n",
       "      <td>0.20</td>\n",
       "      <td>0.05</td>\n",
       "      <td>0.00</td>\n",
       "      <td>0.01</td>\n",
       "      <td>89.0</td>\n",
       "      <td>8.5</td>\n",
       "      <td>E</td>\n",
       "    </tr>\n",
       "    <tr>\n",
       "      <td>3201</td>\n",
       "      <td>X-Man</td>\n",
       "      <td>2600</td>\n",
       "      <td>1982.0</td>\n",
       "      <td>Action</td>\n",
       "      <td>0.58</td>\n",
       "      <td>0.04</td>\n",
       "      <td>0.00</td>\n",
       "      <td>0.01</td>\n",
       "      <td>NaN</td>\n",
       "      <td>NaN</td>\n",
       "      <td>NaN</td>\n",
       "    </tr>\n",
       "    <tr>\n",
       "      <td>11605</td>\n",
       "      <td>Striker 96</td>\n",
       "      <td>PS</td>\n",
       "      <td>1995.0</td>\n",
       "      <td>Sports</td>\n",
       "      <td>0.04</td>\n",
       "      <td>0.03</td>\n",
       "      <td>0.00</td>\n",
       "      <td>0.01</td>\n",
       "      <td>NaN</td>\n",
       "      <td>NaN</td>\n",
       "      <td>NaN</td>\n",
       "    </tr>\n",
       "    <tr>\n",
       "      <td>10428</td>\n",
       "      <td>Kirarin * Revolution: Tsukutte Misechao! Kime ...</td>\n",
       "      <td>DS</td>\n",
       "      <td>2007.0</td>\n",
       "      <td>Simulation</td>\n",
       "      <td>0.00</td>\n",
       "      <td>0.00</td>\n",
       "      <td>0.10</td>\n",
       "      <td>0.00</td>\n",
       "      <td>NaN</td>\n",
       "      <td>NaN</td>\n",
       "      <td>NaN</td>\n",
       "    </tr>\n",
       "    <tr>\n",
       "      <td>5716</td>\n",
       "      <td>FIFA Street</td>\n",
       "      <td>PS2</td>\n",
       "      <td>2005.0</td>\n",
       "      <td>Sports</td>\n",
       "      <td>0.15</td>\n",
       "      <td>0.12</td>\n",
       "      <td>0.00</td>\n",
       "      <td>0.04</td>\n",
       "      <td>59.0</td>\n",
       "      <td>7.9</td>\n",
       "      <td>E</td>\n",
       "    </tr>\n",
       "    <tr>\n",
       "      <td>2618</td>\n",
       "      <td>Doom</td>\n",
       "      <td>PS</td>\n",
       "      <td>1994.0</td>\n",
       "      <td>Shooter</td>\n",
       "      <td>0.43</td>\n",
       "      <td>0.30</td>\n",
       "      <td>0.00</td>\n",
       "      <td>0.05</td>\n",
       "      <td>NaN</td>\n",
       "      <td>NaN</td>\n",
       "      <td>NaN</td>\n",
       "    </tr>\n",
       "  </tbody>\n",
       "</table>\n",
       "</div>"
      ],
      "text/plain": [
       "                                                    Name Platform  \\\n",
       "9199                                       Dino Crisis 3       XB   \n",
       "10380                                    Virtual Hydlide      SAT   \n",
       "16148                        Codename: Panzers Phase Two       PC   \n",
       "10930                         Rygar: The Battle of Argus      Wii   \n",
       "6579                                   MVP Baseball 2004       GC   \n",
       "3201                                               X-Man     2600   \n",
       "11605                                         Striker 96       PS   \n",
       "10428  Kirarin * Revolution: Tsukutte Misechao! Kime ...       DS   \n",
       "5716                                         FIFA Street      PS2   \n",
       "2618                                                Doom       PS   \n",
       "\n",
       "       Year_of_Release         Genre  NA_sales  EU_sales  JP_sales  \\\n",
       "9199            2003.0        Action      0.08      0.03      0.03   \n",
       "10380           1995.0  Role-Playing      0.00      0.00      0.11   \n",
       "16148           2005.0      Strategy      0.00      0.01      0.00   \n",
       "10930           2008.0        Action      0.09      0.00      0.00   \n",
       "6579            2004.0        Sports      0.20      0.05      0.00   \n",
       "3201            1982.0        Action      0.58      0.04      0.00   \n",
       "11605           1995.0        Sports      0.04      0.03      0.00   \n",
       "10428           2007.0    Simulation      0.00      0.00      0.10   \n",
       "5716            2005.0        Sports      0.15      0.12      0.00   \n",
       "2618            1994.0       Shooter      0.43      0.30      0.00   \n",
       "\n",
       "       Other_sales  Critic_Score User_Score Rating  \n",
       "9199          0.00          51.0        4.1      M  \n",
       "10380         0.00           NaN        NaN    NaN  \n",
       "16148         0.00          80.0        8.1      T  \n",
       "10930         0.01          52.0          7      T  \n",
       "6579          0.01          89.0        8.5      E  \n",
       "3201          0.01           NaN        NaN    NaN  \n",
       "11605         0.01           NaN        NaN    NaN  \n",
       "10428         0.00           NaN        NaN    NaN  \n",
       "5716          0.04          59.0        7.9      E  \n",
       "2618          0.05           NaN        NaN    NaN  "
      ]
     },
     "execution_count": 4,
     "metadata": {},
     "output_type": "execute_result"
    }
   ],
   "source": [
    "df.sample(10)"
   ]
  },
  {
   "cell_type": "code",
   "execution_count": 5,
   "metadata": {},
   "outputs": [],
   "source": [
    "df.columns = df.columns.str.lower()"
   ]
  },
  {
   "cell_type": "markdown",
   "metadata": {},
   "source": [
    "## Шаг 2. Преобразование типов данных."
   ]
  },
  {
   "cell_type": "code",
   "execution_count": 6,
   "metadata": {},
   "outputs": [],
   "source": [
    "df['user_score'] = pd.to_numeric(df['user_score'], errors='coerce')"
   ]
  },
  {
   "cell_type": "markdown",
   "metadata": {},
   "source": [
    "### Обработка пропусков."
   ]
  },
  {
   "cell_type": "markdown",
   "metadata": {},
   "source": [
    "видно, что в name и genre одинаковое количество пропусков - 2. Распечатаем эти две строки, может, это одни и те же строчки?"
   ]
  },
  {
   "cell_type": "code",
   "execution_count": 7,
   "metadata": {},
   "outputs": [
    {
     "name": "stdout",
     "output_type": "stream",
     "text": [
      "<class 'pandas.core.frame.DataFrame'>\n",
      "RangeIndex: 16715 entries, 0 to 16714\n",
      "Data columns (total 11 columns):\n",
      "name               16713 non-null object\n",
      "platform           16715 non-null object\n",
      "year_of_release    16446 non-null float64\n",
      "genre              16713 non-null object\n",
      "na_sales           16715 non-null float64\n",
      "eu_sales           16715 non-null float64\n",
      "jp_sales           16715 non-null float64\n",
      "other_sales        16715 non-null float64\n",
      "critic_score       8137 non-null float64\n",
      "user_score         7590 non-null float64\n",
      "rating             9949 non-null object\n",
      "dtypes: float64(7), object(4)\n",
      "memory usage: 1.4+ MB\n"
     ]
    }
   ],
   "source": [
    "df.info()"
   ]
  },
  {
   "cell_type": "code",
   "execution_count": 8,
   "metadata": {},
   "outputs": [
    {
     "data": {
      "text/plain": [
       "(array([  659, 14244]),)"
      ]
     },
     "execution_count": 8,
     "metadata": {},
     "output_type": "execute_result"
    }
   ],
   "source": [
    "# индексы пустых строк в столбце name:\n",
    "np.where(pd.isnull(df['name']))"
   ]
  },
  {
   "cell_type": "code",
   "execution_count": 9,
   "metadata": {},
   "outputs": [
    {
     "data": {
      "text/html": [
       "<div>\n",
       "<style scoped>\n",
       "    .dataframe tbody tr th:only-of-type {\n",
       "        vertical-align: middle;\n",
       "    }\n",
       "\n",
       "    .dataframe tbody tr th {\n",
       "        vertical-align: top;\n",
       "    }\n",
       "\n",
       "    .dataframe thead th {\n",
       "        text-align: right;\n",
       "    }\n",
       "</style>\n",
       "<table border=\"1\" class=\"dataframe\">\n",
       "  <thead>\n",
       "    <tr style=\"text-align: right;\">\n",
       "      <th></th>\n",
       "      <th>name</th>\n",
       "      <th>platform</th>\n",
       "      <th>year_of_release</th>\n",
       "      <th>genre</th>\n",
       "      <th>na_sales</th>\n",
       "      <th>eu_sales</th>\n",
       "      <th>jp_sales</th>\n",
       "      <th>other_sales</th>\n",
       "      <th>critic_score</th>\n",
       "      <th>user_score</th>\n",
       "      <th>rating</th>\n",
       "    </tr>\n",
       "  </thead>\n",
       "  <tbody>\n",
       "    <tr>\n",
       "      <td>659</td>\n",
       "      <td>NaN</td>\n",
       "      <td>GEN</td>\n",
       "      <td>1993.0</td>\n",
       "      <td>NaN</td>\n",
       "      <td>1.78</td>\n",
       "      <td>0.53</td>\n",
       "      <td>0.00</td>\n",
       "      <td>0.08</td>\n",
       "      <td>NaN</td>\n",
       "      <td>NaN</td>\n",
       "      <td>NaN</td>\n",
       "    </tr>\n",
       "    <tr>\n",
       "      <td>14244</td>\n",
       "      <td>NaN</td>\n",
       "      <td>GEN</td>\n",
       "      <td>1993.0</td>\n",
       "      <td>NaN</td>\n",
       "      <td>0.00</td>\n",
       "      <td>0.00</td>\n",
       "      <td>0.03</td>\n",
       "      <td>0.00</td>\n",
       "      <td>NaN</td>\n",
       "      <td>NaN</td>\n",
       "      <td>NaN</td>\n",
       "    </tr>\n",
       "  </tbody>\n",
       "</table>\n",
       "</div>"
      ],
      "text/plain": [
       "      name platform  year_of_release genre  na_sales  eu_sales  jp_sales  \\\n",
       "659    NaN      GEN           1993.0   NaN      1.78      0.53      0.00   \n",
       "14244  NaN      GEN           1993.0   NaN      0.00      0.00      0.03   \n",
       "\n",
       "       other_sales  critic_score  user_score rating  \n",
       "659           0.08           NaN         NaN    NaN  \n",
       "14244         0.00           NaN         NaN    NaN  "
      ]
     },
     "execution_count": 9,
     "metadata": {},
     "output_type": "execute_result"
    }
   ],
   "source": [
    "# распечатываем строки с пустым name\n",
    "df.loc[[659, 14244]]"
   ]
  },
  {
   "cell_type": "markdown",
   "metadata": {},
   "source": [
    "опасения подтвердились. Так как ни жанра, ни названия игры нет, резонно обе строки удалить. С другой стороны, продажи первой - больше двух миллионов долларов. Учитывая, что это сильно больше медианы и среднего арифметического ( в десять раз) удалять как минимум первую строку нельзя, так как сумма большая. С другой стороны, эта игра нам не представляет интереса, так как не указаны никакие характеристики, кроме платформы и сборов."
   ]
  },
  {
   "cell_type": "code",
   "execution_count": 10,
   "metadata": {},
   "outputs": [],
   "source": [
    "df.dropna(subset = ['name'], inplace = True)"
   ]
  },
  {
   "cell_type": "markdown",
   "metadata": {},
   "source": [
    "В столбце с годами релиза есть пропуски. В целом, нам незачем анализ этих строк, если непонятно в каком году игры были выпущены. Однако если эти безвременные игры дали много денег, в этом случае их есть смысл исследовать"
   ]
  },
  {
   "cell_type": "code",
   "execution_count": 11,
   "metadata": {
    "scrolled": false
   },
   "outputs": [
    {
     "name": "stdout",
     "output_type": "stream",
     "text": [
      "Суммарные продажи в Америке всех строк с пропущенным годом релиза - 55.23 млн $\n",
      "Доля суммарных продаж с неизвестным годом релиза ото всех продаж, Америка -  1.2550646848021958 %\n",
      "Суммарные продажи в Европе всех строк с пропущенным годом релиза -  24.069999999999997 млн $\n",
      "Доля суммарных продаж с неизвестным годом релиза ото всех продаж, Европа -  0.9929294512693159 %\n",
      "Суммарные продажи в Японии всех строк с пропущенным годом релиза -  10.530000000000001 млн $\n",
      "Доля суммарных продаж с неизвестным годом релиза ото всех продаж, Япония -  0.8116607828325653 %\n",
      "Суммарные продажи в других странах всех строк с пропущенным годом релиза -  9.080000000000002 млн $\n",
      "Доля суммарных продаж с неизвестным годом релиза ото всех продаж, другие страны -  1.1475658460138518 %\n",
      "\n",
      "\n",
      "Самая высокоприбыльная игра с пропущенным годом релиза в Америке принесла 4.26 млн $\n",
      "Доля самой высокоприбыльной игры в Америке 10.29980657640232 %\n",
      "Самая высокоприбыльная игра с пропущенным годом релиза в Европе принесла 2.36 млн $\n",
      "Доля самой высокоприбыльной игры в Европе 8.149171270718233 %\n",
      "Самая высокоприбыльная игра с пропущенным годом релиза в Японии принесла 0.73 млн $\n",
      "Доля самой высокоприбыльной игры в Японии 7.142857142857142 %\n",
      "Самая высокоприбыльная игра с пропущенным годом релиза в других странах принесла 0.75 млн $\n",
      "Доля самой высокоприбыльной игры в других странах 7.095553453169347 %\n"
     ]
    }
   ],
   "source": [
    "# Список индексов строк, имеющих пустые ячейки в столбце с годами релизов.\n",
    "omission = np.where(pd.isnull(df['year_of_release']))\n",
    "\n",
    "for i in omission:\n",
    "    print('Суммарные продажи в Америке всех строк с пропущенным годом релиза -', df.loc[i, 'na_sales'].sum(), 'млн $')\n",
    "    print('Доля суммарных продаж с неизвестным годом релиза ото всех продаж, Америка - ', df.loc[i, 'na_sales'].sum()/df['na_sales'].sum() *100, '%')\n",
    "    print('Суммарные продажи в Европе всех строк с пропущенным годом релиза - ', df.loc[i, 'eu_sales'].sum(), 'млн $')\n",
    "    print('Доля суммарных продаж с неизвестным годом релиза ото всех продаж, Европа - ', df.loc[i, 'eu_sales'].sum() /df['eu_sales'].sum() *100, '%')\n",
    "    print('Суммарные продажи в Японии всех строк с пропущенным годом релиза - ', df.loc[i, 'jp_sales'].sum(), 'млн $')\n",
    "    print('Доля суммарных продаж с неизвестным годом релиза ото всех продаж, Япония - ', df.loc[i, 'jp_sales'].sum() / df['jp_sales'].sum() *100, '%')\n",
    "    print('Суммарные продажи в других странах всех строк с пропущенным годом релиза - ', df.loc[i, 'other_sales'].sum(), 'млн $')\n",
    "    print('Доля суммарных продаж с неизвестным годом релиза ото всех продаж, другие страны - ', df.loc[i, 'other_sales'].sum() / df['other_sales'].sum() *100, '%')\n",
    "\n",
    "print()\n",
    "print()\n",
    "\n",
    "for i in omission:\n",
    "    print('Самая высокоприбыльная игра с пропущенным годом релиза в Америке принесла', df.loc[i, 'na_sales'].max(), 'млн $')\n",
    "    print('Доля самой высокоприбыльной игры в Америке', df.loc[i, 'na_sales'].max()/df['na_sales'].max() *100, '%')\n",
    "    print('Самая высокоприбыльная игра с пропущенным годом релиза в Европе принесла',df.loc[i, 'eu_sales'].max(), 'млн $')\n",
    "    print('Доля самой высокоприбыльной игры в Европе', df.loc[i, 'eu_sales'].max() /df['eu_sales'].max() *100, '%')\n",
    "    print('Самая высокоприбыльная игра с пропущенным годом релиза в Японии принесла',df.loc[i, 'jp_sales'].max(), 'млн $')\n",
    "    print('Доля самой высокоприбыльной игры в Японии', df.loc[i, 'jp_sales'].max() / df['jp_sales'].max() *100, '%')\n",
    "    print('Самая высокоприбыльная игра с пропущенным годом релиза в других странах принесла',df.loc[i, 'other_sales'].max(), 'млн $')\n",
    "    print('Доля самой высокоприбыльной игры в других странах', df.loc[i, 'other_sales'].max() / df['other_sales'].max() *100, '%')"
   ]
  },
  {
   "cell_type": "code",
   "execution_count": 12,
   "metadata": {},
   "outputs": [
    {
     "data": {
      "text/html": [
       "<div>\n",
       "<style scoped>\n",
       "    .dataframe tbody tr th:only-of-type {\n",
       "        vertical-align: middle;\n",
       "    }\n",
       "\n",
       "    .dataframe tbody tr th {\n",
       "        vertical-align: top;\n",
       "    }\n",
       "\n",
       "    .dataframe thead th {\n",
       "        text-align: right;\n",
       "    }\n",
       "</style>\n",
       "<table border=\"1\" class=\"dataframe\">\n",
       "  <thead>\n",
       "    <tr style=\"text-align: right;\">\n",
       "      <th></th>\n",
       "      <th>name</th>\n",
       "      <th>platform</th>\n",
       "      <th>year_of_release</th>\n",
       "      <th>genre</th>\n",
       "      <th>na_sales</th>\n",
       "      <th>eu_sales</th>\n",
       "      <th>jp_sales</th>\n",
       "      <th>other_sales</th>\n",
       "      <th>critic_score</th>\n",
       "      <th>user_score</th>\n",
       "      <th>rating</th>\n",
       "    </tr>\n",
       "  </thead>\n",
       "  <tbody>\n",
       "    <tr>\n",
       "      <td>0</td>\n",
       "      <td>Wii Sports</td>\n",
       "      <td>Wii</td>\n",
       "      <td>2006.0</td>\n",
       "      <td>Sports</td>\n",
       "      <td>41.36</td>\n",
       "      <td>28.96</td>\n",
       "      <td>3.77</td>\n",
       "      <td>8.45</td>\n",
       "      <td>76.0</td>\n",
       "      <td>8.0</td>\n",
       "      <td>E</td>\n",
       "    </tr>\n",
       "    <tr>\n",
       "      <td>1</td>\n",
       "      <td>Super Mario Bros.</td>\n",
       "      <td>NES</td>\n",
       "      <td>1985.0</td>\n",
       "      <td>Platform</td>\n",
       "      <td>29.08</td>\n",
       "      <td>3.58</td>\n",
       "      <td>6.81</td>\n",
       "      <td>0.77</td>\n",
       "      <td>NaN</td>\n",
       "      <td>NaN</td>\n",
       "      <td>NaN</td>\n",
       "    </tr>\n",
       "    <tr>\n",
       "      <td>2</td>\n",
       "      <td>Mario Kart Wii</td>\n",
       "      <td>Wii</td>\n",
       "      <td>2008.0</td>\n",
       "      <td>Racing</td>\n",
       "      <td>15.68</td>\n",
       "      <td>12.76</td>\n",
       "      <td>3.79</td>\n",
       "      <td>3.29</td>\n",
       "      <td>82.0</td>\n",
       "      <td>8.3</td>\n",
       "      <td>E</td>\n",
       "    </tr>\n",
       "    <tr>\n",
       "      <td>3</td>\n",
       "      <td>Wii Sports Resort</td>\n",
       "      <td>Wii</td>\n",
       "      <td>2009.0</td>\n",
       "      <td>Sports</td>\n",
       "      <td>15.61</td>\n",
       "      <td>10.93</td>\n",
       "      <td>3.28</td>\n",
       "      <td>2.95</td>\n",
       "      <td>80.0</td>\n",
       "      <td>8.0</td>\n",
       "      <td>E</td>\n",
       "    </tr>\n",
       "    <tr>\n",
       "      <td>4</td>\n",
       "      <td>Pokemon Red/Pokemon Blue</td>\n",
       "      <td>GB</td>\n",
       "      <td>1996.0</td>\n",
       "      <td>Role-Playing</td>\n",
       "      <td>11.27</td>\n",
       "      <td>8.89</td>\n",
       "      <td>10.22</td>\n",
       "      <td>1.00</td>\n",
       "      <td>NaN</td>\n",
       "      <td>NaN</td>\n",
       "      <td>NaN</td>\n",
       "    </tr>\n",
       "    <tr>\n",
       "      <td>...</td>\n",
       "      <td>...</td>\n",
       "      <td>...</td>\n",
       "      <td>...</td>\n",
       "      <td>...</td>\n",
       "      <td>...</td>\n",
       "      <td>...</td>\n",
       "      <td>...</td>\n",
       "      <td>...</td>\n",
       "      <td>...</td>\n",
       "      <td>...</td>\n",
       "      <td>...</td>\n",
       "    </tr>\n",
       "    <tr>\n",
       "      <td>16710</td>\n",
       "      <td>Samurai Warriors: Sanada Maru</td>\n",
       "      <td>PS3</td>\n",
       "      <td>2016.0</td>\n",
       "      <td>Action</td>\n",
       "      <td>0.00</td>\n",
       "      <td>0.00</td>\n",
       "      <td>0.01</td>\n",
       "      <td>0.00</td>\n",
       "      <td>NaN</td>\n",
       "      <td>NaN</td>\n",
       "      <td>NaN</td>\n",
       "    </tr>\n",
       "    <tr>\n",
       "      <td>16711</td>\n",
       "      <td>LMA Manager 2007</td>\n",
       "      <td>X360</td>\n",
       "      <td>2006.0</td>\n",
       "      <td>Sports</td>\n",
       "      <td>0.00</td>\n",
       "      <td>0.01</td>\n",
       "      <td>0.00</td>\n",
       "      <td>0.00</td>\n",
       "      <td>NaN</td>\n",
       "      <td>NaN</td>\n",
       "      <td>NaN</td>\n",
       "    </tr>\n",
       "    <tr>\n",
       "      <td>16712</td>\n",
       "      <td>Haitaka no Psychedelica</td>\n",
       "      <td>PSV</td>\n",
       "      <td>2016.0</td>\n",
       "      <td>Adventure</td>\n",
       "      <td>0.00</td>\n",
       "      <td>0.00</td>\n",
       "      <td>0.01</td>\n",
       "      <td>0.00</td>\n",
       "      <td>NaN</td>\n",
       "      <td>NaN</td>\n",
       "      <td>NaN</td>\n",
       "    </tr>\n",
       "    <tr>\n",
       "      <td>16713</td>\n",
       "      <td>Spirits &amp; Spells</td>\n",
       "      <td>GBA</td>\n",
       "      <td>2003.0</td>\n",
       "      <td>Platform</td>\n",
       "      <td>0.01</td>\n",
       "      <td>0.00</td>\n",
       "      <td>0.00</td>\n",
       "      <td>0.00</td>\n",
       "      <td>NaN</td>\n",
       "      <td>NaN</td>\n",
       "      <td>NaN</td>\n",
       "    </tr>\n",
       "    <tr>\n",
       "      <td>16714</td>\n",
       "      <td>Winning Post 8 2016</td>\n",
       "      <td>PSV</td>\n",
       "      <td>2016.0</td>\n",
       "      <td>Simulation</td>\n",
       "      <td>0.00</td>\n",
       "      <td>0.00</td>\n",
       "      <td>0.01</td>\n",
       "      <td>0.00</td>\n",
       "      <td>NaN</td>\n",
       "      <td>NaN</td>\n",
       "      <td>NaN</td>\n",
       "    </tr>\n",
       "  </tbody>\n",
       "</table>\n",
       "<p>16444 rows × 11 columns</p>\n",
       "</div>"
      ],
      "text/plain": [
       "                                name platform  year_of_release         genre  \\\n",
       "0                         Wii Sports      Wii           2006.0        Sports   \n",
       "1                  Super Mario Bros.      NES           1985.0      Platform   \n",
       "2                     Mario Kart Wii      Wii           2008.0        Racing   \n",
       "3                  Wii Sports Resort      Wii           2009.0        Sports   \n",
       "4           Pokemon Red/Pokemon Blue       GB           1996.0  Role-Playing   \n",
       "...                              ...      ...              ...           ...   \n",
       "16710  Samurai Warriors: Sanada Maru      PS3           2016.0        Action   \n",
       "16711               LMA Manager 2007     X360           2006.0        Sports   \n",
       "16712        Haitaka no Psychedelica      PSV           2016.0     Adventure   \n",
       "16713               Spirits & Spells      GBA           2003.0      Platform   \n",
       "16714            Winning Post 8 2016      PSV           2016.0    Simulation   \n",
       "\n",
       "       na_sales  eu_sales  jp_sales  other_sales  critic_score  user_score  \\\n",
       "0         41.36     28.96      3.77         8.45          76.0         8.0   \n",
       "1         29.08      3.58      6.81         0.77           NaN         NaN   \n",
       "2         15.68     12.76      3.79         3.29          82.0         8.3   \n",
       "3         15.61     10.93      3.28         2.95          80.0         8.0   \n",
       "4         11.27      8.89     10.22         1.00           NaN         NaN   \n",
       "...         ...       ...       ...          ...           ...         ...   \n",
       "16710      0.00      0.00      0.01         0.00           NaN         NaN   \n",
       "16711      0.00      0.01      0.00         0.00           NaN         NaN   \n",
       "16712      0.00      0.00      0.01         0.00           NaN         NaN   \n",
       "16713      0.01      0.00      0.00         0.00           NaN         NaN   \n",
       "16714      0.00      0.00      0.01         0.00           NaN         NaN   \n",
       "\n",
       "      rating  \n",
       "0          E  \n",
       "1        NaN  \n",
       "2          E  \n",
       "3          E  \n",
       "4        NaN  \n",
       "...      ...  \n",
       "16710    NaN  \n",
       "16711    NaN  \n",
       "16712    NaN  \n",
       "16713    NaN  \n",
       "16714    NaN  \n",
       "\n",
       "[16444 rows x 11 columns]"
      ]
     },
     "execution_count": 12,
     "metadata": {},
     "output_type": "execute_result"
    }
   ],
   "source": [
    "df.dropna(subset = ['year_of_release'], inplace = True)\n",
    "df"
   ]
  },
  {
   "cell_type": "markdown",
   "metadata": {},
   "source": [
    "Теперь стоит посмотреть насколько сильно мы повредили датасет и потеряли ли строчки с большой прибылью. Сравним имеющийся df с изначальным df, для этого загрузим данные и назовем датасет old_df"
   ]
  },
  {
   "cell_type": "code",
   "execution_count": 13,
   "metadata": {},
   "outputs": [],
   "source": [
    "old_df = pd.read_csv('/datasets/games.csv')"
   ]
  },
  {
   "cell_type": "markdown",
   "metadata": {},
   "source": [
    "добавим в old_df и в df по новому столбцу - суммарный профит по всем локациям"
   ]
  },
  {
   "cell_type": "code",
   "execution_count": 14,
   "metadata": {},
   "outputs": [],
   "source": [
    "df['total_profit'] = df['na_sales'] + df['eu_sales'] + df['jp_sales'] + df['other_sales']"
   ]
  },
  {
   "cell_type": "code",
   "execution_count": 15,
   "metadata": {},
   "outputs": [],
   "source": [
    "old_df['total_profit'] = old_df['NA_sales'] + old_df['EU_sales'] + old_df['JP_sales'] + old_df['Other_sales']"
   ]
  },
  {
   "cell_type": "code",
   "execution_count": 16,
   "metadata": {},
   "outputs": [
    {
     "name": "stdout",
     "output_type": "stream",
     "text": [
      "После обработки сумма профита сотни топовых по профиту игр: 1458.89\n",
      "До обработки сумма профита сотни топовых по профиту игр: 1458.89\n"
     ]
    }
   ],
   "source": [
    "print('После обработки сумма профита сотни топовых по профиту игр:', df['total_profit'].sort_values(ascending=False).head(100).sum())\n",
    "print('До обработки сумма профита сотни топовых по профиту игр:', old_df['total_profit'].sort_values(ascending=False).head(100).sum())"
   ]
  },
  {
   "cell_type": "markdown",
   "metadata": {},
   "source": [
    "При этом самые топовые по прибыли игры тоже особо не поменялись. Соответственно, изменения принимаем, идём дальше"
   ]
  },
  {
   "cell_type": "markdown",
   "metadata": {},
   "source": [
    "## Шаг 3. Исследовательский анализ данных\n"
   ]
  },
  {
   "cell_type": "code",
   "execution_count": 17,
   "metadata": {
    "scrolled": false
   },
   "outputs": [
    {
     "data": {
      "text/plain": [
       "Text(0, 0.5, 'Встречаемость')"
      ]
     },
     "execution_count": 17,
     "metadata": {},
     "output_type": "execute_result"
    },
    {
     "data": {
      "image/png": "[encoded data removed]",
      "text/plain": [
       "<Figure size 1080x360 with 1 Axes>"
      ]
     },
     "metadata": {
      "needs_background": "light"
     },
     "output_type": "display_data"
    }
   ],
   "source": [
    "plt.figure(figsize=(15, 5)).suptitle('Количество выпущенных игр и прибыль распределенные по годам', fontsize=20, y=0.95, x=0.5)\n",
    "\n",
    "df.groupby('year_of_release')['total_profit'].count().plot( kind='bar', color='red' , alpha=0.5, label='Количество игр в году')\n",
    "df.groupby('year_of_release')['total_profit'].sum().plot( kind='bar', color='yellow', alpha=0.9, label='Прибыль от игр в году')\n",
    "plt.legend(shadow = True, fontsize = 20)\n",
    "\n",
    "plt.xlabel('Год релиза')\n",
    "plt.ylabel('Встречаемость')"
   ]
  },
  {
   "cell_type": "markdown",
   "metadata": {},
   "source": [
    "На графике видны два тренда : до 2008-2009 года восходящий, после 2008-2009 - нисходящий. При этом внутри временного промежутка 2008-2009 - 2016 тоже есть условно два своих тренда. В 2012м году игр стало выпускаться резко меньше, а суммарная прибыль упала не слишком сильно. Это значит, что игры 2012-2016 годов в среднем сильно прибыльнее, чем игры 2009-2012, в связи с чем считаю правильным принять за актуальный период отрезок 2012-2016"
   ]
  },
  {
   "cell_type": "code",
   "execution_count": 18,
   "metadata": {
    "scrolled": false
   },
   "outputs": [
    {
     "data": {
      "text/plain": [
       "Text(0, 0.5, 'млн $')"
      ]
     },
     "execution_count": 18,
     "metadata": {},
     "output_type": "execute_result"
    },
    {
     "data": {
      "image/png": "[encoded data removed]",
      "text/plain": [
       "<Figure size 1080x360 with 1 Axes>"
      ]
     },
     "metadata": {
      "needs_background": "light"
     },
     "output_type": "display_data"
    }
   ],
   "source": [
    "plt.figure(figsize=(15, 5)).suptitle('Сборы по платформам, млн $', fontsize=20, y=0.95, x=0.5)\n",
    "\n",
    "\n",
    "df.groupby('platform')['total_profit'].sum().sort_values(ascending=False).head(20).plot(kind='bar', alpha=0.7, color='red', label='Сборы по платформам, млн $')\n",
    "plt.legend(shadow = True, fontsize = 20)\n",
    "plt.xlabel('Платформа')\n",
    "plt.ylabel('млн $')"
   ]
  },
  {
   "cell_type": "code",
   "execution_count": 19,
   "metadata": {},
   "outputs": [],
   "source": [
    "years_platforms_profit = pd.DataFrame(df.groupby(['year_of_release', 'platform'])['total_profit'].sum())"
   ]
  },
  {
   "cell_type": "code",
   "execution_count": 20,
   "metadata": {},
   "outputs": [],
   "source": [
    "years_platforms_profit = years_platforms_profit.query('platform == \"PS2\" | platform ==\"X360\" | platform == \"PS3\" | platform ==\"Wii\" | platform == \"DS\" | platform ==\"PS\"').reset_index()"
   ]
  },
  {
   "cell_type": "code",
   "execution_count": 21,
   "metadata": {
    "scrolled": false
   },
   "outputs": [
    {
     "data": {
      "image/png": "[encoded data removed]",
      "text/plain": [
       "<Figure size 1080x720 with 6 Axes>"
      ]
     },
     "metadata": {
      "needs_background": "light"
     },
     "output_type": "display_data"
    }
   ],
   "source": [
    "plt.figure(figsize=(15, 10)).suptitle('Выручка по годам по платформам', fontsize=20, y=0.92, x=0.5)\n",
    "plt.subplots_adjust(hspace=0.4, wspace=0.3)\n",
    "\n",
    "def test(i, plat):\n",
    "    plt.subplot(2, 3, i)\n",
    "    years_platforms_profit.query('platform == @plat').groupby('year_of_release')['total_profit'].sum().plot( kind='bar', color='red')\n",
    "    plt.xlabel(plat)\n",
    "    plt.ylabel('Выручка в год')\n",
    "    plt.ylim(0, 250)\n",
    "\n",
    "def test1():\n",
    "    i = 1\n",
    "    for word in years_platforms_profit['platform'].unique():\n",
    "        test(i, word)\n",
    "        i += 1\n",
    "        \n",
    "test1()"
   ]
  },
  {
   "cell_type": "markdown",
   "metadata": {},
   "source": [
    "#### За какой характерный срок появляются новые и исчезают старые платформы?\n",
    "\n",
    "В среднем набирают популярность игры 4 года, держатся на рынке и пропадают в течение 5 лет"
   ]
  },
  {
   "cell_type": "markdown",
   "metadata": {},
   "source": [
    "На графике видны два тренда : до 2008-2009 года восходящий, после 2008-2009 - нисходящий. При этом внутри временного промежутка 2008-2009 - 2016 тоже есть условно два своих тренда. В 2012м году игр стало выпускаться резко меньше, а суммарная прибыль упала не слишком сильно. Это значит, что игры 2012-2016 годов в среднем сильно прибыльнее, чем игры 2009-2012.\n",
    "\n",
    "### Чтобы это учесть, в качестве актуального периода возьмём промежуток 2012-2016\n"
   ]
  },
  {
   "cell_type": "code",
   "execution_count": 22,
   "metadata": {},
   "outputs": [],
   "source": [
    "actual_data = df.query('year_of_release >= 2012')"
   ]
  },
  {
   "cell_type": "code",
   "execution_count": 23,
   "metadata": {},
   "outputs": [],
   "source": [
    "actual_platforms = pd.DataFrame(actual_data.groupby(['platform','year_of_release'])['total_profit'].sum()).reset_index(drop=False)"
   ]
  },
  {
   "cell_type": "code",
   "execution_count": 24,
   "metadata": {},
   "outputs": [],
   "source": [
    "def print_actual_platforms(i, plat):\n",
    "    plt.subplot(4, 3, i)\n",
    "    actual_platforms.query('platform == @plat').groupby('year_of_release')['total_profit'].sum().plot( kind='bar', color='red')\n",
    "    plt.xlabel(plat)\n",
    "    plt.ylabel('Сборы, млн $')\n",
    "    plt.ylim(0, 120)\n",
    "def def_for_print_actual_platforms():\n",
    "    i = 1\n",
    "    for word in actual_platforms['platform'].unique():\n",
    "        print_actual_platforms(i, word)\n",
    "        i += 1"
   ]
  },
  {
   "cell_type": "code",
   "execution_count": 25,
   "metadata": {},
   "outputs": [
    {
     "data": {
      "image/png": "[encoded data removed]",
      "text/plain": [
       "<Figure size 1080x1080 with 11 Axes>"
      ]
     },
     "metadata": {
      "needs_background": "light"
     },
     "output_type": "display_data"
    }
   ],
   "source": [
    "plt.figure(figsize=(15, 15)).suptitle('Выручка по актуальным годам по актуальным платформам', fontsize=20, y=0.92, x=0.5)\n",
    "plt.subplots_adjust(hspace=0.4)\n",
    "\n",
    "\n",
    "def_for_print_actual_platforms()"
   ]
  },
  {
   "cell_type": "markdown",
   "metadata": {},
   "source": [
    "Четко видно, что наиболее подходящие нам по сборам платформы - это **PS4**, **XOne**"
   ]
  },
  {
   "cell_type": "code",
   "execution_count": 26,
   "metadata": {},
   "outputs": [
    {
     "data": {
      "text/html": [
       "<div>\n",
       "<style scoped>\n",
       "    .dataframe tbody tr th:only-of-type {\n",
       "        vertical-align: middle;\n",
       "    }\n",
       "\n",
       "    .dataframe tbody tr th {\n",
       "        vertical-align: top;\n",
       "    }\n",
       "\n",
       "    .dataframe thead th {\n",
       "        text-align: right;\n",
       "    }\n",
       "</style>\n",
       "<table border=\"1\" class=\"dataframe\">\n",
       "  <thead>\n",
       "    <tr style=\"text-align: right;\">\n",
       "      <th></th>\n",
       "      <th>platform</th>\n",
       "      <th>total_profit</th>\n",
       "    </tr>\n",
       "  </thead>\n",
       "  <tbody>\n",
       "    <tr>\n",
       "      <td>31</td>\n",
       "      <td>PS4</td>\n",
       "      <td>14.63</td>\n",
       "    </tr>\n",
       "    <tr>\n",
       "      <td>42</td>\n",
       "      <td>PS4</td>\n",
       "      <td>12.62</td>\n",
       "    </tr>\n",
       "    <tr>\n",
       "      <td>77</td>\n",
       "      <td>PS4</td>\n",
       "      <td>8.58</td>\n",
       "    </tr>\n",
       "    <tr>\n",
       "      <td>87</td>\n",
       "      <td>PS4</td>\n",
       "      <td>7.98</td>\n",
       "    </tr>\n",
       "  </tbody>\n",
       "</table>\n",
       "</div>"
      ],
      "text/plain": [
       "   platform  total_profit\n",
       "31      PS4         14.63\n",
       "42      PS4         12.62\n",
       "77      PS4          8.58\n",
       "87      PS4          7.98"
      ]
     },
     "execution_count": 26,
     "metadata": {},
     "output_type": "execute_result"
    }
   ],
   "source": [
    "actual_data_actual_platforms = actual_data.query('platform == \"PS4\" | platform == \"XOne\"')[['platform', 'total_profit']]\n",
    "actual_data_actual_platforms.head(4)"
   ]
  },
  {
   "cell_type": "code",
   "execution_count": 27,
   "metadata": {},
   "outputs": [
    {
     "data": {
      "text/plain": [
       "Text(0.5, 1, 'Значения, воспринимаемые боксплотом как выбросы')"
      ]
     },
     "execution_count": 27,
     "metadata": {},
     "output_type": "execute_result"
    },
    {
     "data": {
      "image/png": "[encoded data removed]",
      "text/plain": [
       "<Figure size 360x360 with 1 Axes>"
      ]
     },
     "metadata": {
      "needs_background": "light"
     },
     "output_type": "display_data"
    },
    {
     "data": {
      "image/png": "[encoded data removed]",
      "text/plain": [
       "<Figure size 504x504 with 1 Axes>"
      ]
     },
     "metadata": {
      "needs_background": "light"
     },
     "output_type": "display_data"
    }
   ],
   "source": [
    "sns.catplot(x='platform', y='total_profit', data=actual_data_actual_platforms, kind='box', height=5)\n",
    "plt.xlabel('Платформы')\n",
    "plt.ylabel('значения')\n",
    "\n",
    "sns.catplot(x='platform', y='total_profit', data=actual_data_actual_platforms, kind='box', height=7)\n",
    "plt.ylim(1, 9)\n",
    "plt.xlabel('Платформы')\n",
    "plt.ylabel('значения')\n",
    "plt.title('Значения, воспринимаемые боксплотом как выбросы')"
   ]
  },
  {
   "cell_type": "code",
   "execution_count": 28,
   "metadata": {},
   "outputs": [
    {
     "name": "stdout",
     "output_type": "stream",
     "text": [
      "Медиана прибыли по PS4 0.2\n",
      "Медиана прибыли по XOne 0.22\n",
      "\n",
      "Среднее прибыли по PS4 0.8013775510204081\n",
      "Среднее прибыли по XOne 0.6450202429149797\n"
     ]
    }
   ],
   "source": [
    "print('Медиана прибыли по PS4', actual_data_actual_platforms.query('platform==\"PS4\"')['total_profit'].median())\n",
    "print('Медиана прибыли по XOne', actual_data_actual_platforms.query('platform==\"XOne\"')['total_profit'].median())\n",
    "print()\n",
    "print('Среднее прибыли по PS4', actual_data_actual_platforms.query('platform==\"PS4\"')['total_profit'].mean())\n",
    "print('Среднее прибыли по XOne', actual_data_actual_platforms.query('platform==\"XOne\"')['total_profit'].mean())"
   ]
  },
  {
   "cell_type": "markdown",
   "metadata": {},
   "source": [
    "**Вывод по боксплотам.**\n",
    "\n",
    "Во-первых, стоит сказать, что выручку стоит распределить условно на два типа - это совсем далекие выбросы, то есть невероятно прибыльные игры и большинство игр. Рассматривать боксплоты будем в соответствии с этой градацией.\n",
    "\n",
    "1. Если анализировать наиболее далекие выбросы, обозначающие крайне успешные игры, их больше у PS4. Однако полагаться на них рискованно - в штуках их у PS4 две, а у XOne - 1. А рассматриваем мы больше двух тысяч игр, и в их распределении три крайне успешные игры очень легко теряются\n",
    "2. Виду этого более рационально смотреть на распределение большинства игр. И, судя по самому ящику с усами, выручка у PS4 несильно, но больше выручки на XOne и это важно учесть - такое распределение актуально для *большинства* игр, а значит, скорее всего случится и с выходом новых игр и дальше\n",
    "\n",
    "Медианы примерно равны, а вот среднее арифметическое больше у PS4 на 24%. \n",
    "\n",
    "Учитывая и распределение большинства игр и выбросов, платформа PS4 становится более приоритетной. "
   ]
  },
  {
   "cell_type": "markdown",
   "metadata": {},
   "source": [
    "**Взаимосвязь оценок пользователей и критиков со сборами**"
   ]
  },
  {
   "cell_type": "markdown",
   "metadata": {},
   "source": [
    "ДЛЯ PS4:"
   ]
  },
  {
   "cell_type": "code",
   "execution_count": 29,
   "metadata": {},
   "outputs": [
    {
     "name": "stdout",
     "output_type": "stream",
     "text": [
      "<class 'pandas.core.frame.DataFrame'>\n",
      "Int64Index: 252 entries, 42 to 16530\n",
      "Data columns (total 4 columns):\n",
      "platform        252 non-null object\n",
      "critic_score    252 non-null float64\n",
      "user_score      249 non-null float64\n",
      "total_profit    252 non-null float64\n",
      "dtypes: float64(3), object(1)\n",
      "memory usage: 9.8+ KB\n"
     ]
    }
   ],
   "source": [
    "actual_data_PS4 = actual_data.query('platform ==\"PS4\"')[['platform', 'critic_score', 'user_score', 'total_profit']]\n",
    "actual_data_PS4.dropna(subset = ['critic_score'], inplace=True)\n",
    "actual_data_PS4.info()\n",
    "\n",
    "actual_data_PS4['critic_score'] = round(actual_data_PS4['critic_score'],-1)\n",
    "actual_data_PS4['user_score'] = round(actual_data_PS4['user_score'])"
   ]
  },
  {
   "cell_type": "code",
   "execution_count": 30,
   "metadata": {},
   "outputs": [
    {
     "data": {
      "text/plain": [
       "Text(9.924999999999997, 0.5, 'Прибыль')"
      ]
     },
     "execution_count": 30,
     "metadata": {},
     "output_type": "execute_result"
    },
    {
     "data": {
      "image/png": "[encoded data removed]",
      "text/plain": [
       "<Figure size 979.2x576 with 1 Axes>"
      ]
     },
     "metadata": {
      "needs_background": "light"
     },
     "output_type": "display_data"
    },
    {
     "data": {
      "image/png": "[encoded data removed]",
      "text/plain": [
       "<Figure size 979.2x576 with 1 Axes>"
      ]
     },
     "metadata": {
      "needs_background": "light"
     },
     "output_type": "display_data"
    }
   ],
   "source": [
    "sns.catplot(x='critic_score', y='total_profit', data=actual_data_PS4, kind='box', aspect=1.7, height=8).fig.suptitle('Зависимость прибыли от оценок критиков, PS4', fontsize=20, y=1.05 , x=0.5)\n",
    "plt.ylim(0, 8)\n",
    "plt.xlabel('Оценка критиков')\n",
    "plt.ylabel('Прибыль')\n",
    "\n",
    "sns.catplot(x='user_score', y='total_profit', data=actual_data_PS4, kind='box', aspect=1.7, height=8).fig.suptitle('Зависимость прибыли от оценок пользователей, PS4', fontsize=20, y=1.05 , x=0.5)\n",
    "plt.ylim(0, 4,5)\n",
    "plt.xlabel('Оценка пользователей')\n",
    "plt.ylabel('Прибыль')"
   ]
  },
  {
   "cell_type": "code",
   "execution_count": 31,
   "metadata": {},
   "outputs": [
    {
     "name": "stdout",
     "output_type": "stream",
     "text": [
      "Корреляция между оценками пользователей и стоимостью = -0.05285529781830357 взаимосвязь отсутствует\n",
      "Корреляция между оценками критиков и стоимостью = 0.38845530110048737 взаимосвязь положительная, слабая\n"
     ]
    }
   ],
   "source": [
    "print('Корреляция между оценками пользователей и стоимостью =', actual_data_PS4['user_score'].corr(actual_data_PS4['total_profit']), 'взаимосвязь отсутствует')\n",
    "print('Корреляция между оценками критиков и стоимостью =', actual_data_PS4['critic_score'].corr(actual_data_PS4['total_profit']), 'взаимосвязь положительная, слабая')"
   ]
  },
  {
   "cell_type": "code",
   "execution_count": 32,
   "metadata": {},
   "outputs": [
    {
     "name": "stdout",
     "output_type": "stream",
     "text": [
      "Корреляция между оценками критиков и стоимостью, где оценка >=70 = 0.4178820781573044 взаимосвязь положительная, слабая\n"
     ]
    }
   ],
   "source": [
    "print('Корреляция между оценками критиков и стоимостью, где оценка >=70 =', actual_data_PS4.query('critic_score >= 70')['critic_score'].corr(actual_data_PS4.query('critic_score >= 70')['total_profit']), 'взаимосвязь положительная, слабая')"
   ]
  },
  {
   "cell_type": "markdown",
   "metadata": {},
   "source": [
    "Для PS4:\n",
    "\n",
    "1. Разница в выручке при оценке критиков до 70 существенно не различаются\n",
    "2. Если оценка критиков от 70, то чем она больше, тем больше игра приносит прибыли, хотя корреляция по Пирсону не сильно отличается от корреляции по всем оценкам критиков\n",
    "3. Корреляции между оценками пользователей и выручкой просто нет, её даже отрицательной слабой назвать крайне сложно. "
   ]
  },
  {
   "cell_type": "markdown",
   "metadata": {},
   "source": [
    "ДЛЯ XONE:"
   ]
  },
  {
   "cell_type": "code",
   "execution_count": 33,
   "metadata": {},
   "outputs": [
    {
     "name": "stdout",
     "output_type": "stream",
     "text": [
      "<class 'pandas.core.frame.DataFrame'>\n",
      "Int64Index: 169 entries, 165 to 16660\n",
      "Data columns (total 4 columns):\n",
      "platform        169 non-null object\n",
      "critic_score    169 non-null float64\n",
      "user_score      165 non-null float64\n",
      "total_profit    169 non-null float64\n",
      "dtypes: float64(3), object(1)\n",
      "memory usage: 6.6+ KB\n"
     ]
    }
   ],
   "source": [
    "actual_data_XOne = actual_data.query('platform ==\"XOne\"')[['platform', 'critic_score', 'user_score', 'total_profit']]\n",
    "actual_data_XOne.dropna(subset = ['critic_score'], inplace=True)\n",
    "actual_data_XOne.info()\n",
    "\n",
    "actual_data_XOne['critic_score'] = round(actual_data_XOne['critic_score'],-1)\n",
    "actual_data_XOne['user_score'] = round(actual_data_XOne['user_score'])"
   ]
  },
  {
   "cell_type": "code",
   "execution_count": 34,
   "metadata": {},
   "outputs": [
    {
     "data": {
      "text/plain": [
       "Text(16.299999999999997, 0.5, 'Прибыль')"
      ]
     },
     "execution_count": 34,
     "metadata": {},
     "output_type": "execute_result"
    },
    {
     "data": {
      "image/png": "[encoded data removed]",
      "text/plain": [
       "<Figure size 979.2x576 with 1 Axes>"
      ]
     },
     "metadata": {
      "needs_background": "light"
     },
     "output_type": "display_data"
    },
    {
     "data": {
      "image/png": "[encoded data removed]",
      "text/plain": [
       "<Figure size 979.2x576 with 1 Axes>"
      ]
     },
     "metadata": {
      "needs_background": "light"
     },
     "output_type": "display_data"
    }
   ],
   "source": [
    "sns.catplot(x='critic_score', y='total_profit', data=actual_data_XOne, kind='box', aspect=1.7, height=8).fig.suptitle('Зависимость прибыли от оценок критиков, XOne', fontsize=20, y=1.05 , x=0.5)\n",
    "plt.xlabel('Оценка критиков')\n",
    "plt.ylabel('Прибыль')\n",
    "\n",
    "sns.catplot(x='user_score', y='total_profit', data=actual_data_XOne, kind='box', aspect=1.7, height=8).fig.suptitle('Зависимость прибыли от оценок пользователей, XOne', fontsize=20, y=1.05 , x=0.5)\n",
    "plt.ylim(0, 3.5)\n",
    "plt.xlabel('Оценка пользователей')\n",
    "plt.ylabel('Прибыль')"
   ]
  },
  {
   "cell_type": "code",
   "execution_count": 35,
   "metadata": {},
   "outputs": [
    {
     "name": "stdout",
     "output_type": "stream",
     "text": [
      "Корреляция между оценками пользователей и стоимостью -0.1069648304783788 взаимосвязь отрицательная, слабая\n",
      "Корреляция между оценками критиков и стоимостью 0.3956969852663961 взаимосвязь положительная, слабая\n"
     ]
    }
   ],
   "source": [
    "print('Корреляция между оценками пользователей и стоимостью', actual_data_XOne['user_score'].corr(actual_data_XOne['total_profit']), 'взаимосвязь отрицательная, слабая')\n",
    "print('Корреляция между оценками критиков и стоимостью', actual_data_XOne['critic_score'].corr(actual_data_XOne['total_profit']), 'взаимосвязь положительная, слабая')"
   ]
  },
  {
   "cell_type": "code",
   "execution_count": 36,
   "metadata": {},
   "outputs": [
    {
     "name": "stdout",
     "output_type": "stream",
     "text": [
      "Корреляция между оценками критиков и стоимостью, где оценка >=70 = 0.2998266789388778 взаимосвязь положительная, слабая\n"
     ]
    }
   ],
   "source": [
    "print('Корреляция между оценками критиков и стоимостью, где оценка >=70 =', actual_data_XOne.query('critic_score >= 70')['critic_score'].corr(actual_data_XOne.query('critic_score >= 70')['total_profit']), 'взаимосвязь положительная, слабая')"
   ]
  },
  {
   "cell_type": "markdown",
   "metadata": {},
   "source": [
    "Для XOne:\n",
    "\n",
    "1. Разница в выручке при оценке критиков до 70 существенно не различаются\n",
    "2. Если оценка критиков от 70, то чем она больше, тем больше игра приносит прибыли, хотя корреляция по Пирсону уменьшилась на треть. \n",
    "3. Корреляции между оценками пользователей и выручкой также нет. \n",
    "\n",
    "Примечательно, что корреляции между оценками пользователей и выручкой на обеих платформах разные и отличаются в два раза, а корреляции между оценками **критиков** и выручкой невероятно близки."
   ]
  },
  {
   "cell_type": "markdown",
   "metadata": {},
   "source": [
    "Посмотрим на такое распределение для другой платформы - 3DS, так как из оставшихся она держится на рынке сильнее других"
   ]
  },
  {
   "cell_type": "code",
   "execution_count": 37,
   "metadata": {},
   "outputs": [
    {
     "name": "stdout",
     "output_type": "stream",
     "text": [
      "Корреляция между оценками пользователей и стоимостью 0.20486578974237185 взаимосвязь положительная, слабая\n",
      "Корреляция между оценками критиков и стоимостью 0.35546691570185895 взаимосвязь положительная, слабая\n"
     ]
    },
    {
     "data": {
      "image/png": "[encoded data removed]",
      "text/plain": [
       "<Figure size 489.6x288 with 1 Axes>"
      ]
     },
     "metadata": {
      "needs_background": "light"
     },
     "output_type": "display_data"
    },
    {
     "data": {
      "image/png": "[encoded data removed]",
      "text/plain": [
       "<Figure size 489.6x288 with 1 Axes>"
      ]
     },
     "metadata": {
      "needs_background": "light"
     },
     "output_type": "display_data"
    }
   ],
   "source": [
    "actual_data_3DS = actual_data.query('platform ==\"3DS\"')[['platform', 'critic_score', 'user_score', 'total_profit']]\n",
    "actual_data_3DS.dropna(subset = ['critic_score'], inplace=True)\n",
    "actual_data_3DS['critic_score'] = round(actual_data_3DS['critic_score'],-1)\n",
    "actual_data_3DS['user_score'] = round(actual_data_3DS['user_score'])\n",
    "\n",
    "sns.catplot(x='critic_score', y='total_profit', data=actual_data_3DS, kind='box', aspect=1.7, height=4).fig.suptitle('Зависимость прибыли от оценок критиков, 3DS', fontsize=15, y=1.05 , x=0.5)\n",
    "plt.xlabel('Оценка критиков')\n",
    "plt.ylabel('Прибыль')\n",
    "plt.ylim(0, 5)\n",
    "\n",
    "sns.catplot(x='user_score', y='total_profit', data=actual_data_3DS, kind='box', aspect=1.7, height=4).fig.suptitle('Зависимость прибыли от оценок пользователей, 3DS', fontsize=15, y=1.05 , x=0.5)\n",
    "plt.ylim(0, 4)\n",
    "plt.xlabel('Оценка пользователей')\n",
    "plt.ylabel('Прибыль')\n",
    "\n",
    "\n",
    "print('Корреляция между оценками пользователей и стоимостью', actual_data_3DS['user_score'].corr(actual_data_3DS['total_profit']), 'взаимосвязь положительная, слабая')\n",
    "print('Корреляция между оценками критиков и стоимостью', actual_data_3DS['critic_score'].corr(actual_data_3DS['total_profit']), 'взаимосвязь положительная, слабая')"
   ]
  },
  {
   "cell_type": "markdown",
   "metadata": {},
   "source": [
    "В данном случае выручка начинает расти с оценки 50, а не с 70, однако этого недостаточно, чтобы воспринимать платформу 3DS как актуальную"
   ]
  },
  {
   "cell_type": "markdown",
   "metadata": {},
   "source": [
    "**О прибыльности жанров**"
   ]
  },
  {
   "cell_type": "code",
   "execution_count": 38,
   "metadata": {},
   "outputs": [
    {
     "data": {
      "text/plain": [
       "genre\n",
       "Shooter         148.89\n",
       "Action          133.41\n",
       "Sports           82.35\n",
       "Role-Playing     39.54\n",
       "Racing           21.93\n",
       "Misc             15.62\n",
       "Fighting         11.10\n",
       "Adventure         9.02\n",
       "Platform          8.62\n",
       "Simulation        1.92\n",
       "Strategy          1.04\n",
       "Puzzle            0.02\n",
       "Name: total_profit, dtype: float64"
      ]
     },
     "execution_count": 38,
     "metadata": {},
     "output_type": "execute_result"
    }
   ],
   "source": [
    "actual_data.query('platform==\"PS4\" | platform==\"XOne\"').groupby('genre')['total_profit'].sum().sort_values(ascending=False)"
   ]
  },
  {
   "cell_type": "markdown",
   "metadata": {},
   "source": [
    "Два крайне прибыльных жанра - шутер и экшн, потом - спортивные игры. Наименее прибыльный жанр - пазлы, отличающийся по выручке в 52 раза в сравнении со вторым по наименьшей прибыльностью - стратегиями."
   ]
  },
  {
   "cell_type": "code",
   "execution_count": 39,
   "metadata": {},
   "outputs": [
    {
     "data": {
      "text/plain": [
       "Text(0, 0.5, 'млн $')"
      ]
     },
     "execution_count": 39,
     "metadata": {},
     "output_type": "execute_result"
    },
    {
     "data": {
      "image/png": "[encoded data removed]",
      "text/plain": [
       "<Figure size 1080x360 with 1 Axes>"
      ]
     },
     "metadata": {
      "needs_background": "light"
     },
     "output_type": "display_data"
    }
   ],
   "source": [
    "plt.figure(figsize=(15, 5)).suptitle('Сборы по жанрам в актуальные годы, млн $', fontsize=20, y=0.95, x=0.5)\n",
    "actual_data.query('platform==\"PS4\" | platform==\"XOne\"').groupby('genre')['total_profit'].sum().plot(kind='bar', alpha=0.7, color='red')\n",
    "plt.xlabel('Жанры')\n",
    "plt.ylabel('млн $')"
   ]
  },
  {
   "cell_type": "markdown",
   "metadata": {},
   "source": [
    "Добавим в таблицы столбец с коэффициентом, обозначающим отношение выручки конкретной платформы к продажам самой низкоокупаемой платформы. Таким образом, мы будем судить о платформах относительно друг друга и измерять их в том, насколько они больше самой низкой выручки. Этот метод на мой взгляд более корректен, чем сравнение с общими продажами в мире в процентах, потому что в данном случае речь идёт о сравнении **конкретных** пяти платформах и сравнивать их cледует **между собой**."
   ]
  },
  {
   "cell_type": "code",
   "execution_count": 40,
   "metadata": {},
   "outputs": [],
   "source": [
    "na_actual = pd.DataFrame(actual_data.query('na_sales > 0')[['name','platform', 'genre', 'na_sales','rating']].groupby('platform')['na_sales'].sum().sort_values(ascending=False).head(5)).reset_index(drop=False)\n",
    "eu_actual = pd.DataFrame(actual_data.query('eu_sales > 0')[['name','platform', 'genre', 'eu_sales','rating']].groupby('platform')['eu_sales'].sum().sort_values(ascending=False).head(5)).reset_index(drop=False)\n",
    "jp_actual = pd.DataFrame(actual_data.query('jp_sales > 0')[['name','platform', 'genre', 'jp_sales','rating']].groupby('platform')['jp_sales'].sum().sort_values(ascending=False).head(5)).reset_index(drop=False)\n",
    "\n",
    "na_genres = pd.DataFrame(actual_data.query('na_sales > 0').groupby(['genre'])['na_sales'].sum().sort_values(ascending=False).head(5)).reset_index(drop=False)\n",
    "eu_genres = pd.DataFrame(actual_data.query('eu_sales > 0').groupby(['genre'])['eu_sales'].sum().sort_values(ascending=False).head(5)).reset_index(drop=False)\n",
    "jp_genres = pd.DataFrame(actual_data.query('jp_sales > 0').groupby(['genre'])['jp_sales'].sum().sort_values(ascending=False).head(5)).reset_index(drop=False)\n",
    "\n",
    "na_rating = pd.DataFrame(actual_data.query('na_sales > 0').groupby(['rating'])['na_sales'].sum().sort_values(ascending=False)).reset_index(drop=False)\n",
    "eu_rating = pd.DataFrame(actual_data.query('eu_sales > 0').groupby(['rating'])['eu_sales'].sum().sort_values(ascending=False)).reset_index(drop=False)\n",
    "jp_rating = pd.DataFrame(actual_data.query('jp_sales > 0').groupby(['rating'])['jp_sales'].sum().sort_values(ascending=False)).reset_index(drop=False)"
   ]
  },
  {
   "cell_type": "code",
   "execution_count": 41,
   "metadata": {},
   "outputs": [],
   "source": [
    "def pop_plats(df, column, x):\n",
    "    list = []\n",
    "    for i in range(0, x+1):\n",
    "        list.append(df[column][i] / df[column][x])\n",
    "        i += 1\n",
    "    pd.Series(list)\n",
    "    df['coefficient'] = list\n",
    "    df['coefficient'] = round(df['coefficient'], 2)\n",
    "    \n",
    "pop_plats(na_actual, 'na_sales', 4)\n",
    "pop_plats(eu_actual, 'eu_sales', 4)\n",
    "pop_plats(jp_actual, 'jp_sales', 4)"
   ]
  },
  {
   "cell_type": "code",
   "execution_count": 42,
   "metadata": {},
   "outputs": [
    {
     "data": {
      "text/html": [
       "<div>\n",
       "<style scoped>\n",
       "    .dataframe tbody tr th:only-of-type {\n",
       "        vertical-align: middle;\n",
       "    }\n",
       "\n",
       "    .dataframe tbody tr th {\n",
       "        vertical-align: top;\n",
       "    }\n",
       "\n",
       "    .dataframe thead th {\n",
       "        text-align: right;\n",
       "    }\n",
       "</style>\n",
       "<table border=\"1\" class=\"dataframe\">\n",
       "  <thead>\n",
       "    <tr style=\"text-align: right;\">\n",
       "      <th></th>\n",
       "      <th>platform</th>\n",
       "      <th>na_sales</th>\n",
       "      <th>coefficient</th>\n",
       "    </tr>\n",
       "  </thead>\n",
       "  <tbody>\n",
       "    <tr>\n",
       "      <td>0</td>\n",
       "      <td>X360</td>\n",
       "      <td>140.05</td>\n",
       "      <td>2.53</td>\n",
       "    </tr>\n",
       "    <tr>\n",
       "      <td>1</td>\n",
       "      <td>PS4</td>\n",
       "      <td>108.74</td>\n",
       "      <td>1.97</td>\n",
       "    </tr>\n",
       "    <tr>\n",
       "      <td>2</td>\n",
       "      <td>PS3</td>\n",
       "      <td>103.38</td>\n",
       "      <td>1.87</td>\n",
       "    </tr>\n",
       "    <tr>\n",
       "      <td>3</td>\n",
       "      <td>XOne</td>\n",
       "      <td>93.12</td>\n",
       "      <td>1.68</td>\n",
       "    </tr>\n",
       "    <tr>\n",
       "      <td>4</td>\n",
       "      <td>3DS</td>\n",
       "      <td>55.31</td>\n",
       "      <td>1.00</td>\n",
       "    </tr>\n",
       "  </tbody>\n",
       "</table>\n",
       "</div>"
      ],
      "text/plain": [
       "  platform  na_sales  coefficient\n",
       "0     X360    140.05         2.53\n",
       "1      PS4    108.74         1.97\n",
       "2      PS3    103.38         1.87\n",
       "3     XOne     93.12         1.68\n",
       "4      3DS     55.31         1.00"
      ]
     },
     "execution_count": 42,
     "metadata": {},
     "output_type": "execute_result"
    }
   ],
   "source": [
    "na_actual"
   ]
  },
  {
   "cell_type": "code",
   "execution_count": 43,
   "metadata": {},
   "outputs": [
    {
     "data": {
      "text/html": [
       "<div>\n",
       "<style scoped>\n",
       "    .dataframe tbody tr th:only-of-type {\n",
       "        vertical-align: middle;\n",
       "    }\n",
       "\n",
       "    .dataframe tbody tr th {\n",
       "        vertical-align: top;\n",
       "    }\n",
       "\n",
       "    .dataframe thead th {\n",
       "        text-align: right;\n",
       "    }\n",
       "</style>\n",
       "<table border=\"1\" class=\"dataframe\">\n",
       "  <thead>\n",
       "    <tr style=\"text-align: right;\">\n",
       "      <th></th>\n",
       "      <th>platform</th>\n",
       "      <th>eu_sales</th>\n",
       "      <th>coefficient</th>\n",
       "    </tr>\n",
       "  </thead>\n",
       "  <tbody>\n",
       "    <tr>\n",
       "      <td>0</td>\n",
       "      <td>PS4</td>\n",
       "      <td>141.09</td>\n",
       "      <td>3.31</td>\n",
       "    </tr>\n",
       "    <tr>\n",
       "      <td>1</td>\n",
       "      <td>PS3</td>\n",
       "      <td>106.86</td>\n",
       "      <td>2.51</td>\n",
       "    </tr>\n",
       "    <tr>\n",
       "      <td>2</td>\n",
       "      <td>X360</td>\n",
       "      <td>74.52</td>\n",
       "      <td>1.75</td>\n",
       "    </tr>\n",
       "    <tr>\n",
       "      <td>3</td>\n",
       "      <td>XOne</td>\n",
       "      <td>51.59</td>\n",
       "      <td>1.21</td>\n",
       "    </tr>\n",
       "    <tr>\n",
       "      <td>4</td>\n",
       "      <td>3DS</td>\n",
       "      <td>42.64</td>\n",
       "      <td>1.00</td>\n",
       "    </tr>\n",
       "  </tbody>\n",
       "</table>\n",
       "</div>"
      ],
      "text/plain": [
       "  platform  eu_sales  coefficient\n",
       "0      PS4    141.09         3.31\n",
       "1      PS3    106.86         2.51\n",
       "2     X360     74.52         1.75\n",
       "3     XOne     51.59         1.21\n",
       "4      3DS     42.64         1.00"
      ]
     },
     "execution_count": 43,
     "metadata": {},
     "output_type": "execute_result"
    }
   ],
   "source": [
    "eu_actual"
   ]
  },
  {
   "cell_type": "code",
   "execution_count": 44,
   "metadata": {},
   "outputs": [
    {
     "data": {
      "text/html": [
       "<div>\n",
       "<style scoped>\n",
       "    .dataframe tbody tr th:only-of-type {\n",
       "        vertical-align: middle;\n",
       "    }\n",
       "\n",
       "    .dataframe tbody tr th {\n",
       "        vertical-align: top;\n",
       "    }\n",
       "\n",
       "    .dataframe thead th {\n",
       "        text-align: right;\n",
       "    }\n",
       "</style>\n",
       "<table border=\"1\" class=\"dataframe\">\n",
       "  <thead>\n",
       "    <tr style=\"text-align: right;\">\n",
       "      <th></th>\n",
       "      <th>platform</th>\n",
       "      <th>jp_sales</th>\n",
       "      <th>coefficient</th>\n",
       "    </tr>\n",
       "  </thead>\n",
       "  <tbody>\n",
       "    <tr>\n",
       "      <td>0</td>\n",
       "      <td>3DS</td>\n",
       "      <td>87.79</td>\n",
       "      <td>6.75</td>\n",
       "    </tr>\n",
       "    <tr>\n",
       "      <td>1</td>\n",
       "      <td>PS3</td>\n",
       "      <td>35.29</td>\n",
       "      <td>2.71</td>\n",
       "    </tr>\n",
       "    <tr>\n",
       "      <td>2</td>\n",
       "      <td>PSV</td>\n",
       "      <td>21.04</td>\n",
       "      <td>1.62</td>\n",
       "    </tr>\n",
       "    <tr>\n",
       "      <td>3</td>\n",
       "      <td>PS4</td>\n",
       "      <td>15.96</td>\n",
       "      <td>1.23</td>\n",
       "    </tr>\n",
       "    <tr>\n",
       "      <td>4</td>\n",
       "      <td>WiiU</td>\n",
       "      <td>13.01</td>\n",
       "      <td>1.00</td>\n",
       "    </tr>\n",
       "  </tbody>\n",
       "</table>\n",
       "</div>"
      ],
      "text/plain": [
       "  platform  jp_sales  coefficient\n",
       "0      3DS     87.79         6.75\n",
       "1      PS3     35.29         2.71\n",
       "2      PSV     21.04         1.62\n",
       "3      PS4     15.96         1.23\n",
       "4     WiiU     13.01         1.00"
      ]
     },
     "execution_count": 44,
     "metadata": {},
     "output_type": "execute_result"
    }
   ],
   "source": [
    "jp_actual"
   ]
  },
  {
   "cell_type": "markdown",
   "metadata": {},
   "source": [
    "Стоит сказать, что в Японии особняком стоит 3DS - почти монополист, который делает выручку в 12 с половиной раз больше, чем конкуренты. В Европе наиболее популярны серии PS 3 и 4, в Америке - PS4 и X360."
   ]
  },
  {
   "cell_type": "code",
   "execution_count": 45,
   "metadata": {},
   "outputs": [],
   "source": [
    "pop_plats(na_genres, 'na_sales', 4)\n",
    "pop_plats(eu_genres, 'eu_sales', 4)\n",
    "pop_plats(jp_genres, 'jp_sales', 4)"
   ]
  },
  {
   "cell_type": "code",
   "execution_count": 46,
   "metadata": {},
   "outputs": [
    {
     "data": {
      "text/html": [
       "<div>\n",
       "<style scoped>\n",
       "    .dataframe tbody tr th:only-of-type {\n",
       "        vertical-align: middle;\n",
       "    }\n",
       "\n",
       "    .dataframe tbody tr th {\n",
       "        vertical-align: top;\n",
       "    }\n",
       "\n",
       "    .dataframe thead th {\n",
       "        text-align: right;\n",
       "    }\n",
       "</style>\n",
       "<table border=\"1\" class=\"dataframe\">\n",
       "  <thead>\n",
       "    <tr style=\"text-align: right;\">\n",
       "      <th></th>\n",
       "      <th>genre</th>\n",
       "      <th>na_sales</th>\n",
       "      <th>coefficient</th>\n",
       "    </tr>\n",
       "  </thead>\n",
       "  <tbody>\n",
       "    <tr>\n",
       "      <td>0</td>\n",
       "      <td>Action</td>\n",
       "      <td>177.84</td>\n",
       "      <td>4.66</td>\n",
       "    </tr>\n",
       "    <tr>\n",
       "      <td>1</td>\n",
       "      <td>Shooter</td>\n",
       "      <td>144.77</td>\n",
       "      <td>3.79</td>\n",
       "    </tr>\n",
       "    <tr>\n",
       "      <td>2</td>\n",
       "      <td>Sports</td>\n",
       "      <td>81.53</td>\n",
       "      <td>2.13</td>\n",
       "    </tr>\n",
       "    <tr>\n",
       "      <td>3</td>\n",
       "      <td>Role-Playing</td>\n",
       "      <td>64.00</td>\n",
       "      <td>1.68</td>\n",
       "    </tr>\n",
       "    <tr>\n",
       "      <td>4</td>\n",
       "      <td>Misc</td>\n",
       "      <td>38.19</td>\n",
       "      <td>1.00</td>\n",
       "    </tr>\n",
       "  </tbody>\n",
       "</table>\n",
       "</div>"
      ],
      "text/plain": [
       "          genre  na_sales  coefficient\n",
       "0        Action    177.84         4.66\n",
       "1       Shooter    144.77         3.79\n",
       "2        Sports     81.53         2.13\n",
       "3  Role-Playing     64.00         1.68\n",
       "4          Misc     38.19         1.00"
      ]
     },
     "execution_count": 46,
     "metadata": {},
     "output_type": "execute_result"
    }
   ],
   "source": [
    "na_genres"
   ]
  },
  {
   "cell_type": "code",
   "execution_count": 47,
   "metadata": {},
   "outputs": [
    {
     "data": {
      "text/html": [
       "<div>\n",
       "<style scoped>\n",
       "    .dataframe tbody tr th:only-of-type {\n",
       "        vertical-align: middle;\n",
       "    }\n",
       "\n",
       "    .dataframe tbody tr th {\n",
       "        vertical-align: top;\n",
       "    }\n",
       "\n",
       "    .dataframe thead th {\n",
       "        text-align: right;\n",
       "    }\n",
       "</style>\n",
       "<table border=\"1\" class=\"dataframe\">\n",
       "  <thead>\n",
       "    <tr style=\"text-align: right;\">\n",
       "      <th></th>\n",
       "      <th>genre</th>\n",
       "      <th>eu_sales</th>\n",
       "      <th>coefficient</th>\n",
       "    </tr>\n",
       "  </thead>\n",
       "  <tbody>\n",
       "    <tr>\n",
       "      <td>0</td>\n",
       "      <td>Action</td>\n",
       "      <td>159.34</td>\n",
       "      <td>5.84</td>\n",
       "    </tr>\n",
       "    <tr>\n",
       "      <td>1</td>\n",
       "      <td>Shooter</td>\n",
       "      <td>113.47</td>\n",
       "      <td>4.16</td>\n",
       "    </tr>\n",
       "    <tr>\n",
       "      <td>2</td>\n",
       "      <td>Sports</td>\n",
       "      <td>69.09</td>\n",
       "      <td>2.53</td>\n",
       "    </tr>\n",
       "    <tr>\n",
       "      <td>3</td>\n",
       "      <td>Role-Playing</td>\n",
       "      <td>48.53</td>\n",
       "      <td>1.78</td>\n",
       "    </tr>\n",
       "    <tr>\n",
       "      <td>4</td>\n",
       "      <td>Racing</td>\n",
       "      <td>27.29</td>\n",
       "      <td>1.00</td>\n",
       "    </tr>\n",
       "  </tbody>\n",
       "</table>\n",
       "</div>"
      ],
      "text/plain": [
       "          genre  eu_sales  coefficient\n",
       "0        Action    159.34         5.84\n",
       "1       Shooter    113.47         4.16\n",
       "2        Sports     69.09         2.53\n",
       "3  Role-Playing     48.53         1.78\n",
       "4        Racing     27.29         1.00"
      ]
     },
     "execution_count": 47,
     "metadata": {},
     "output_type": "execute_result"
    }
   ],
   "source": [
    "eu_genres"
   ]
  },
  {
   "cell_type": "code",
   "execution_count": 48,
   "metadata": {},
   "outputs": [
    {
     "data": {
      "text/html": [
       "<div>\n",
       "<style scoped>\n",
       "    .dataframe tbody tr th:only-of-type {\n",
       "        vertical-align: middle;\n",
       "    }\n",
       "\n",
       "    .dataframe tbody tr th {\n",
       "        vertical-align: top;\n",
       "    }\n",
       "\n",
       "    .dataframe thead th {\n",
       "        text-align: right;\n",
       "    }\n",
       "</style>\n",
       "<table border=\"1\" class=\"dataframe\">\n",
       "  <thead>\n",
       "    <tr style=\"text-align: right;\">\n",
       "      <th></th>\n",
       "      <th>genre</th>\n",
       "      <th>jp_sales</th>\n",
       "      <th>coefficient</th>\n",
       "    </tr>\n",
       "  </thead>\n",
       "  <tbody>\n",
       "    <tr>\n",
       "      <td>0</td>\n",
       "      <td>Role-Playing</td>\n",
       "      <td>65.44</td>\n",
       "      <td>6.93</td>\n",
       "    </tr>\n",
       "    <tr>\n",
       "      <td>1</td>\n",
       "      <td>Action</td>\n",
       "      <td>52.80</td>\n",
       "      <td>5.59</td>\n",
       "    </tr>\n",
       "    <tr>\n",
       "      <td>2</td>\n",
       "      <td>Misc</td>\n",
       "      <td>12.86</td>\n",
       "      <td>1.36</td>\n",
       "    </tr>\n",
       "    <tr>\n",
       "      <td>3</td>\n",
       "      <td>Simulation</td>\n",
       "      <td>10.41</td>\n",
       "      <td>1.10</td>\n",
       "    </tr>\n",
       "    <tr>\n",
       "      <td>4</td>\n",
       "      <td>Fighting</td>\n",
       "      <td>9.44</td>\n",
       "      <td>1.00</td>\n",
       "    </tr>\n",
       "  </tbody>\n",
       "</table>\n",
       "</div>"
      ],
      "text/plain": [
       "          genre  jp_sales  coefficient\n",
       "0  Role-Playing     65.44         6.93\n",
       "1        Action     52.80         5.59\n",
       "2          Misc     12.86         1.36\n",
       "3    Simulation     10.41         1.10\n",
       "4      Fighting      9.44         1.00"
      ]
     },
     "execution_count": 48,
     "metadata": {},
     "output_type": "execute_result"
    }
   ],
   "source": [
    "jp_genres"
   ]
  },
  {
   "cell_type": "markdown",
   "metadata": {},
   "source": [
    "Список наиболее популярных игр в Америке и Европе одинаков за тем исключением, что в Европе в шутеры и экшены играют одинаково часто, в отличие от Америки. Примечательно, что в целом в Японии играют в другие игры - 3 игры из 5ти в Японии актуальны сугубо для Японии в данных примерах. Рынок в Японии, вероятно, крайне специфичен, но есть разница и между Америкой с Европой: выходя на рынок Америки, шутеры приоритетнее."
   ]
  },
  {
   "cell_type": "code",
   "execution_count": 49,
   "metadata": {},
   "outputs": [
    {
     "data": {
      "text/html": [
       "<div>\n",
       "<style scoped>\n",
       "    .dataframe tbody tr th:only-of-type {\n",
       "        vertical-align: middle;\n",
       "    }\n",
       "\n",
       "    .dataframe tbody tr th {\n",
       "        vertical-align: top;\n",
       "    }\n",
       "\n",
       "    .dataframe thead th {\n",
       "        text-align: right;\n",
       "    }\n",
       "</style>\n",
       "<table border=\"1\" class=\"dataframe\">\n",
       "  <thead>\n",
       "    <tr style=\"text-align: right;\">\n",
       "      <th></th>\n",
       "      <th>rating</th>\n",
       "      <th>na_sales</th>\n",
       "    </tr>\n",
       "  </thead>\n",
       "  <tbody>\n",
       "    <tr>\n",
       "      <td>0</td>\n",
       "      <td>M</td>\n",
       "      <td>231.57</td>\n",
       "    </tr>\n",
       "    <tr>\n",
       "      <td>1</td>\n",
       "      <td>E</td>\n",
       "      <td>114.37</td>\n",
       "    </tr>\n",
       "    <tr>\n",
       "      <td>2</td>\n",
       "      <td>E10+</td>\n",
       "      <td>75.70</td>\n",
       "    </tr>\n",
       "    <tr>\n",
       "      <td>3</td>\n",
       "      <td>T</td>\n",
       "      <td>66.02</td>\n",
       "    </tr>\n",
       "  </tbody>\n",
       "</table>\n",
       "</div>"
      ],
      "text/plain": [
       "  rating  na_sales\n",
       "0      M    231.57\n",
       "1      E    114.37\n",
       "2   E10+     75.70\n",
       "3      T     66.02"
      ]
     },
     "execution_count": 49,
     "metadata": {},
     "output_type": "execute_result"
    }
   ],
   "source": [
    "na_rating"
   ]
  },
  {
   "cell_type": "code",
   "execution_count": 50,
   "metadata": {},
   "outputs": [
    {
     "data": {
      "text/html": [
       "<div>\n",
       "<style scoped>\n",
       "    .dataframe tbody tr th:only-of-type {\n",
       "        vertical-align: middle;\n",
       "    }\n",
       "\n",
       "    .dataframe tbody tr th {\n",
       "        vertical-align: top;\n",
       "    }\n",
       "\n",
       "    .dataframe thead th {\n",
       "        text-align: right;\n",
       "    }\n",
       "</style>\n",
       "<table border=\"1\" class=\"dataframe\">\n",
       "  <thead>\n",
       "    <tr style=\"text-align: right;\">\n",
       "      <th></th>\n",
       "      <th>rating</th>\n",
       "      <th>eu_sales</th>\n",
       "    </tr>\n",
       "  </thead>\n",
       "  <tbody>\n",
       "    <tr>\n",
       "      <td>0</td>\n",
       "      <td>M</td>\n",
       "      <td>193.96</td>\n",
       "    </tr>\n",
       "    <tr>\n",
       "      <td>1</td>\n",
       "      <td>E</td>\n",
       "      <td>113.03</td>\n",
       "    </tr>\n",
       "    <tr>\n",
       "      <td>2</td>\n",
       "      <td>E10+</td>\n",
       "      <td>55.37</td>\n",
       "    </tr>\n",
       "    <tr>\n",
       "      <td>3</td>\n",
       "      <td>T</td>\n",
       "      <td>52.96</td>\n",
       "    </tr>\n",
       "  </tbody>\n",
       "</table>\n",
       "</div>"
      ],
      "text/plain": [
       "  rating  eu_sales\n",
       "0      M    193.96\n",
       "1      E    113.03\n",
       "2   E10+     55.37\n",
       "3      T     52.96"
      ]
     },
     "execution_count": 50,
     "metadata": {},
     "output_type": "execute_result"
    }
   ],
   "source": [
    "eu_rating"
   ]
  },
  {
   "cell_type": "code",
   "execution_count": 51,
   "metadata": {},
   "outputs": [
    {
     "data": {
      "text/html": [
       "<div>\n",
       "<style scoped>\n",
       "    .dataframe tbody tr th:only-of-type {\n",
       "        vertical-align: middle;\n",
       "    }\n",
       "\n",
       "    .dataframe tbody tr th {\n",
       "        vertical-align: top;\n",
       "    }\n",
       "\n",
       "    .dataframe thead th {\n",
       "        text-align: right;\n",
       "    }\n",
       "</style>\n",
       "<table border=\"1\" class=\"dataframe\">\n",
       "  <thead>\n",
       "    <tr style=\"text-align: right;\">\n",
       "      <th></th>\n",
       "      <th>rating</th>\n",
       "      <th>jp_sales</th>\n",
       "    </tr>\n",
       "  </thead>\n",
       "  <tbody>\n",
       "    <tr>\n",
       "      <td>0</td>\n",
       "      <td>E</td>\n",
       "      <td>28.33</td>\n",
       "    </tr>\n",
       "    <tr>\n",
       "      <td>1</td>\n",
       "      <td>T</td>\n",
       "      <td>26.02</td>\n",
       "    </tr>\n",
       "    <tr>\n",
       "      <td>2</td>\n",
       "      <td>M</td>\n",
       "      <td>21.20</td>\n",
       "    </tr>\n",
       "    <tr>\n",
       "      <td>3</td>\n",
       "      <td>E10+</td>\n",
       "      <td>8.19</td>\n",
       "    </tr>\n",
       "  </tbody>\n",
       "</table>\n",
       "</div>"
      ],
      "text/plain": [
       "  rating  jp_sales\n",
       "0      E     28.33\n",
       "1      T     26.02\n",
       "2      M     21.20\n",
       "3   E10+      8.19"
      ]
     },
     "execution_count": 51,
     "metadata": {},
     "output_type": "execute_result"
    }
   ],
   "source": [
    "jp_rating"
   ]
  },
  {
   "cell_type": "markdown",
   "metadata": {},
   "source": [
    "Вполне наглядно, что игры с рейтингом Е продаются лучше, чем игры с рейтингом Т. Также видно, что в двух случаях из двух игры с рейтингом М продаются лучше, чем игры с рейтингом Е с серьезным отрывом - в 1.5-2 раза больше прибыли. Насчет рейтинга Е10+ неоднозначно, но игры с этим рейтингом продаются примерно также, как и игры с рейтингом Т."
   ]
  },
  {
   "cell_type": "markdown",
   "metadata": {},
   "source": [
    " ### Проверка гипотез о том, что:\n",
    " \n",
    "- Средние пользовательские рейтинги платформ Xbox One и PC одинаковые;\n",
    "- Средние пользовательские рейтинги жанров Action (англ. «действие», экшен-игры) и Sports (англ. «спортивные соревнования») разные."
   ]
  },
  {
   "cell_type": "markdown",
   "metadata": {},
   "source": [
    "Проверка гипотезы №1. Сформулируем гипотезу H₀ так, чтобы использовать знак равенства.\n",
    "\n",
    "**Нулевая гипотеза H₀**: Средние пользовательские рейтинги платформ Xbox One и PC **одинаковые**\n",
    "\n",
    "**Альтернативная гипотеза H₁**: Средние пользовательские рейтинги платформ Xbox One и PC **разные**\n",
    "\n",
    "Так как мы сравниваем два средних из двух выборок, из библиотеки scipy подбираем метод ttest_ind(), если обе выборки имеют нормальное распределение. Если хоть одна из двух выборок нормального распределения не имеет, используем метод Манна-Уитни. Чтобы понять нормальное распределение имеют выборки или нет, используем для обеих критерий Шапиро."
   ]
  },
  {
   "cell_type": "code",
   "execution_count": 52,
   "metadata": {},
   "outputs": [
    {
     "name": "stdout",
     "output_type": "stream",
     "text": [
      "Распределение не нормальное\n",
      "Распределение не нормальное\n"
     ]
    }
   ],
   "source": [
    "# АНАЛИЗИРУЕМ НА НОРМАЛЬНОСТЬ ПО КРИТЕРИЮ ШАПИРО \n",
    "\n",
    "alpha = 0.05\n",
    "\n",
    "# Проверим на нормальность:\n",
    "def is_normal(df, plat, column):\n",
    "    results = st.shapiro(\n",
    "        df.query('platform == @plat')[column].dropna().reset_index(drop=True))\n",
    "    if (results[1] < alpha):\n",
    "        print('Распределение не нормальное')\n",
    "    else:\n",
    "        print(\"Распределение нормальное\")     \n",
    "\n",
    "is_normal(actual_data, 'XOne', 'user_score')\n",
    "is_normal(actual_data, 'PC', 'user_score') "
   ]
  },
  {
   "cell_type": "markdown",
   "metadata": {},
   "source": [
    "Так как оба распределения ненормальны, для проверки гипотез возьмем критерий Манна-Уитни."
   ]
  },
  {
   "cell_type": "code",
   "execution_count": 53,
   "metadata": {},
   "outputs": [],
   "source": [
    "user_score_for_XOne = actual_data.query('platform ==\"XOne\"')['user_score'].dropna()\n",
    "user_score_for_PC = actual_data.query('platform ==\"PC\"')['user_score'].dropna()"
   ]
  },
  {
   "cell_type": "code",
   "execution_count": 54,
   "metadata": {},
   "outputs": [
    {
     "name": "stdout",
     "output_type": "stream",
     "text": [
      "p-значение:  0.4324531487349707\n",
      "Не получилось отвергнуть нулевую гипотезу о том, что средние пользовательские рейтинги платформ Xbox One и PC одинаковые\n"
     ]
    }
   ],
   "source": [
    "results = st.mannwhitneyu(\n",
    "    user_score_for_XOne, \n",
    "    user_score_for_PC)\n",
    "\n",
    "print('p-значение: ', results.pvalue)\n",
    "if (results.pvalue < alpha):\n",
    "    print(\"Отвергаем нулевую гипотезу\")\n",
    "else:\n",
    "    print(\"Не получилось отвергнуть нулевую гипотезу о том, что средние пользовательские рейтинги платформ Xbox One и PC одинаковые\")   "
   ]
  },
  {
   "cell_type": "markdown",
   "metadata": {},
   "source": [
    "Можно сказать, что люди оценивают игры на платформе Xbox One и PC примерно одинаково."
   ]
  },
  {
   "cell_type": "markdown",
   "metadata": {},
   "source": [
    "Проверка гипотезы №2. Сформулируем гипотезу H₀ так, чтобы использовать знак равенства.\n",
    "\n",
    "**Нулевая гипотеза H₀**: Средние пользовательские рейтинги жанров Action и Sports **одинаковые**.\n",
    "\n",
    "**Альтернативная гипотеза H₁**: Средние пользовательские рейтинги жанров Action и Sports **разные**\n",
    "\n",
    "Так как мы сравниваем два средних из двух выборок, из библиотеки scipy подбираем метод ttest_ind(), если обе выборки имеют нормальное распределение. Если хоть одна из двух выборок нормального распределения не имеет, используем метод Манна-Уитни. Чтобы понять нормальное распределение имеют выборки или нет, используем для обеих критерий Шапиро."
   ]
  },
  {
   "cell_type": "code",
   "execution_count": 55,
   "metadata": {},
   "outputs": [
    {
     "name": "stdout",
     "output_type": "stream",
     "text": [
      "Распределение не нормальное\n",
      "Распределение не нормальное\n"
     ]
    }
   ],
   "source": [
    "def is_normal(df, gen, column):\n",
    "    results = st.shapiro(\n",
    "        df.query('genre == @gen')[column].dropna().reset_index(drop=True))\n",
    "    if (results[1] < alpha):\n",
    "        print('Распределение не нормальное')\n",
    "    else:\n",
    "        print(\"Распределение нормальное\")     \n",
    "\n",
    "is_normal(actual_data, 'Action', 'user_score')\n",
    "is_normal(actual_data, 'Sports', 'user_score') "
   ]
  },
  {
   "cell_type": "markdown",
   "metadata": {},
   "source": [
    "Так как оба распределения ненормальны, для проверки гипотез возьмем критерий Манна-Уитни."
   ]
  },
  {
   "cell_type": "code",
   "execution_count": 56,
   "metadata": {},
   "outputs": [],
   "source": [
    "user_score_for_Action = actual_data.query('genre ==\"Action\"')['user_score'].dropna()\n",
    "user_score_for_Sports = actual_data.query('genre ==\"Sports\"')['user_score'].dropna()"
   ]
  },
  {
   "cell_type": "code",
   "execution_count": 57,
   "metadata": {},
   "outputs": [
    {
     "name": "stdout",
     "output_type": "stream",
     "text": [
      "p-значение:  5.714382600964342e-24\n",
      "Отвергаем нулевую гипотезу о том, что средние пользовательские рейтинги жанров Action и Sports одинаковые.\n"
     ]
    }
   ],
   "source": [
    "results = st.mannwhitneyu(\n",
    "    user_score_for_Action, \n",
    "    user_score_for_Sports)\n",
    "\n",
    "print('p-значение: ', results.pvalue)\n",
    "if (results.pvalue < alpha):\n",
    "    print(\"Отвергаем нулевую гипотезу о том, что средние пользовательские рейтинги жанров Action и Sports одинаковые.\")\n",
    "else:\n",
    "    print(\"Не получилось отвергнуть нулевую \")   "
   ]
  },
  {
   "cell_type": "markdown",
   "metadata": {},
   "source": [
    "Средние пользовательские рейтинги жанров Action и Sports разнятся, но это не даст нам существенной помощи в анализе, потому что мы уже посчитали насколько прибылен тот или иной жанр в зависимости от локации"
   ]
  },
  {
   "cell_type": "markdown",
   "metadata": {},
   "source": [
    "## Итог."
   ]
  },
  {
   "cell_type": "markdown",
   "metadata": {},
   "source": [
    "В целом, нас интересуют преимущественно платформы PS4 и Xbox One. Если нацелены на рынок америкнский, лучше PS4,  если на европейский тоже PS4, если на японский - 3DS, но с учетом, что игра не будет популярна нигде, кроме Японии, то есть суммарно лучше склонить к PS4.\n",
    "\n",
    "Если целевая аудитория в Америке и Европе, по жанрам лучше экшн, шутер, спортивные. В японии абсолютный лидер -  Role-play, но в Америке и Европе Role-play распространен меньше.\n",
    "\n",
    "Для аудитории в Америке и Европе бесспорно лучший возрастной порог М - \"материалы игры не подходят для подростков младше 17 лет\", далее Е - \"Для всех\". В японии иная ситуация:  преимущественно нет данных, а по тем, что есть, лучше рейтинг Е. \n",
    "\n",
    "\n",
    "**Большая часть выводов может быть сделана, зная целевую аудиторию проекта.** Если она не выбрана, то эффективнее выбрать Америку и Европу - часто интересы аудитории совпадают. При этом выручка за актуальный период в Америке составила 237 млн $, в Европе - 192. Суммарно это 429 млн, в противовес 44 в Японии:"
   ]
  },
  {
   "cell_type": "code",
   "execution_count": 58,
   "metadata": {},
   "outputs": [
    {
     "data": {
      "text/plain": [
       "na_sales    590.97\n",
       "eu_sales    506.82\n",
       "jp_sales    192.58\n",
       "dtype: float64"
      ]
     },
     "execution_count": 58,
     "metadata": {},
     "output_type": "execute_result"
    }
   ],
   "source": [
    "actual_data[['na_sales', 'eu_sales','jp_sales']].sum()"
   ]
  }
 ],
 "metadata": {
  "kernelspec": {
   "display_name": "Python 3",
   "language": "python",
   "name": "python3"
  },
  "language_info": {
   "codemirror_mode": {
    "name": "ipython",
    "version": 3
   },
   "file_extension": ".py",
   "mimetype": "text/x-python",
   "name": "python",
   "nbconvert_exporter": "python",
   "pygments_lexer": "ipython3",
   "version": "3.7.6"
  }
 },
 "nbformat": 4,
 "nbformat_minor": 2
}
